{
 "cells": [
  {
   "cell_type": "code",
   "execution_count": 39,
   "metadata": {},
   "outputs": [],
   "source": [
    "from mercapy import Product as WarehouseProduct, WAREHOUSES\n",
    "from product import Product\n",
    "import os, json, csv\n",
    "\n",
    "CATALOGS_PATH = \"catalogs\""
   ]
  },
  {
   "cell_type": "code",
   "execution_count": 12,
   "metadata": {},
   "outputs": [],
   "source": [
    "warehouse_paths = [f.split(\"_\")[0] for f in os.listdir(CATALOGS_PATH)]"
   ]
  },
  {
   "cell_type": "code",
   "execution_count": 14,
   "metadata": {},
   "outputs": [],
   "source": [
    "def load_catalog(warehouse, language=\"en\"):\n",
    "    catalog_path = os.path.join(CATALOGS_PATH, warehouse) + \"_catalog.json\"\n",
    "    with open(catalog_path, \"r\") as file:\n",
    "        catalog = json.load(file)\n",
    "\n",
    "    return [WarehouseProduct(p, warehouse, language) for p in catalog]\n",
    "\n",
    "\n",
    "catalogs = {}\n",
    "for warehouse in warehouse_paths:\n",
    "    catalogs[warehouse] = load_catalog(warehouse)"
   ]
  },
  {
   "cell_type": "code",
   "execution_count": 28,
   "metadata": {},
   "outputs": [
    {
     "name": "stdout",
     "output_type": "stream",
     "text": [
      "There are 5904 products in Mercadona's catalog.\n"
     ]
    }
   ],
   "source": [
    "unique_products = []\n",
    "\n",
    "def is_unique(product: WarehouseProduct):\n",
    "    ids = [p.id for p in unique_products]\n",
    "    return product.id not in ids\n",
    "\n",
    "def find_identical(target_product: WarehouseProduct):\n",
    "    identical_products = []\n",
    "\n",
    "    for catalog in catalogs.values():\n",
    "        for product in catalog:\n",
    "            if target_product.id == product.id:\n",
    "                identical_products.append(product)\n",
    "\n",
    "    return identical_products\n",
    "\n",
    "def add_unique_products():\n",
    "    for catalog in catalogs.values():\n",
    "        for product in catalog:\n",
    "            if is_unique(product):\n",
    "                identical_products = find_identical(product) \n",
    "                warehouses = [p.warehouse for p in identical_products]\n",
    "\n",
    "                unique_product = Product(product.id, warehouses, product.language)\n",
    "                unique_products.append(unique_product)\n",
    "\n",
    "add_unique_products()\n",
    "print(f\"There are {len(unique_products)} products in Mercadona's catalog.\")"
   ]
  },
  {
   "cell_type": "code",
   "execution_count": null,
   "metadata": {},
   "outputs": [],
   "source": [
    "def populate_product_data(products: list[Product]):\n",
    "    for i,product in enumerate(products):\n",
    "        product._fetch_data()\n",
    "        \n",
    "        if (i+1) % 500 == 0:\n",
    "            print(f\"{round((i+1)/len(products))*100}% | {i+1} out of {len(products)} done...\")\n",
    "\n",
    "populate_product_data(unique_products)"
   ]
  },
  {
   "cell_type": "code",
   "execution_count": 47,
   "metadata": {},
   "outputs": [
    {
     "name": "stdout",
     "output_type": "stream",
     "text": [
      "Skipping row {'id': '22332', 'ean': '8437010848230', 'name': 'Sliced \\u200b\\u200bgrilled chicken breast La Carloteña', 'legal_name': 'PECHUGUITA DE POLLO ASADA AL HORNO', 'unit_price': 2.6, 'is_discounted': False, 'previous_price': None, 'origin': 'España', 'weight': 0.125, 'category': 'Deli & cheese', 'age_check': False, 'alcohol_by_volume': None, 'is_new': False, 'is_pack': False, 'pack_size': None, 'supplier': 'Carloteña de Asados S.L.'} due to error: 'charmap' codec can't encode characters in position 27-28: character maps to <undefined>\n",
      "Skipping row {'id': '23359', 'ean': '8480000233592', 'name': 'Rustic natural white sliced \\u200b\\u200bbread 0% added sugar Hacendado', 'legal_name': 'Pan de Molde', 'unit_price': 1.6, 'is_discounted': False, 'previous_price': None, 'origin': 'España', 'weight': 0.55, 'category': 'Bread & bakery', 'age_check': False, 'alcohol_by_volume': None, 'is_new': False, 'is_pack': False, 'pack_size': None, 'supplier': 'Mercadona'} due to error: 'charmap' codec can't encode characters in position 48-49: character maps to <undefined>\n"
     ]
    }
   ],
   "source": [
    "def make_csv(products: list[Product], path: str):\n",
    "    # Define the header based on the fields of the Product class\n",
    "    fieldnames = [\n",
    "        \"id\",\n",
    "        \"ean\",\n",
    "        \"name\",\n",
    "        \"legal_name\",\n",
    "        \"unit_price\",\n",
    "        \"is_discounted\",\n",
    "        \"previous_price\",\n",
    "        \"origin\",\n",
    "        \"supplier\",\n",
    "        \"weight\",\n",
    "        \"category\",\n",
    "        \"age_check\",\n",
    "        \"alcohol_by_volume\",\n",
    "        \"is_new\",\n",
    "        \"is_pack\",\n",
    "        \"pack_size\",\n",
    "    ]\n",
    "\n",
    "    # Create a list of dictionaries\n",
    "    data = []\n",
    "    for p in products:\n",
    "        product_data = {\n",
    "                \"id\": p.id,\n",
    "                \"ean\": p.ean,\n",
    "                \"name\": p.name,\n",
    "                \"legal_name\": p.legal_name,\n",
    "                \"unit_price\": p.unit_price,\n",
    "                \"is_discounted\": p.is_discounted,\n",
    "                \"previous_price\": p.previous_price,\n",
    "                \"origin\": p.origin,\n",
    "                \"weight\": p.weight,\n",
    "                \"category\": p.categories[0],\n",
    "                \"age_check\": p.age_check,\n",
    "                \"alcohol_by_volume\": p.alcohol_by_volume,\n",
    "                \"is_new\": p.is_new,\n",
    "                \"is_pack\": p.is_pack,\n",
    "                \"pack_size\": p.pack_size,\n",
    "        }\n",
    "        if p.suppliers:\n",
    "            product_data[\"supplier\"] = p.suppliers[0]\n",
    "        if p.categories:\n",
    "            product_data[\"category\"] = p.categories[0]\n",
    "        data.append(product_data)\n",
    "\n",
    "    # Write to the CSV file using DictWriter\n",
    "    with open(path, \"w\", newline=\"\") as file:\n",
    "        writer = csv.DictWriter(file, fieldnames=fieldnames)\n",
    "        writer.writeheader()\n",
    "    \n",
    "        for row in data:\n",
    "            try:\n",
    "                writer.writerow(row)\n",
    "            except Exception as e:\n",
    "                print(f\"Skipping row {row} due to error: {e}\")\n",
    "\n",
    "\n",
    "make_csv(unique_products, \"catalog.csv\")"
   ]
  },
  {
   "cell_type": "code",
   "execution_count": null,
   "metadata": {},
   "outputs": [],
   "source": []
  }
 ],
 "metadata": {
  "kernelspec": {
   "display_name": "Python 3",
   "language": "python",
   "name": "python3"
  },
  "language_info": {
   "codemirror_mode": {
    "name": "ipython",
    "version": 3
   },
   "file_extension": ".py",
   "mimetype": "text/x-python",
   "name": "python",
   "nbconvert_exporter": "python",
   "pygments_lexer": "ipython3",
   "version": "3.12.1"
  }
 },
 "nbformat": 4,
 "nbformat_minor": 2
}
